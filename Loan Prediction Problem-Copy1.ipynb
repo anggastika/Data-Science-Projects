{
 "cells": [
  {
   "cell_type": "markdown",
   "metadata": {},
   "source": [
    "# Loan Acceptance Prediction"
   ]
  },
  {
   "cell_type": "markdown",
   "metadata": {},
   "source": [
    "Read data and import libraries"
   ]
  },
  {
   "cell_type": "code",
   "execution_count": 43,
   "metadata": {
    "scrolled": true
   },
   "outputs": [],
   "source": [
    "import pandas as pd\n",
    "import math as m\n",
    "import numpy as np\n",
    "path = \"Dataset/Loan/train.csv\"\n",
    "data = pd.read_csv(path)"
   ]
  },
  {
   "cell_type": "code",
   "execution_count": 44,
   "metadata": {},
   "outputs": [
    {
     "data": {
      "image/png": "[encoded data removed]",
      "text/plain": [
       "<Figure size 432x288 with 1 Axes>"
      ]
     },
     "metadata": {
      "needs_background": "light"
     },
     "output_type": "display_data"
    }
   ],
   "source": [
    "import matplotlib.pyplot as plt\n",
    "import seaborn as sns\n",
    "%matplotlib inline\n",
    "sns.countplot(data['Loan_Status'])\n",
    "plt.show()"
   ]
  },
  {
   "cell_type": "markdown",
   "metadata": {},
   "source": [
    "Data preprocessing"
   ]
  },
  {
   "cell_type": "code",
   "execution_count": 74,
   "metadata": {
    "scrolled": true
   },
   "outputs": [],
   "source": [
    "from sklearn.preprocessing import StandardScaler\n",
    "def preprocess(data,training=True,data_size=None,n_data=10):\n",
    "    #remove NaN values\n",
    "    data = data.fillna(0)\n",
    "    #separate numerical and categorical data from each other\n",
    "    numerical = data[[\"ApplicantIncome\",\"CoapplicantIncome\",\"LoanAmount\",\"Loan_Amount_Term\"]]\n",
    "    categorical = data[[\"Dependents\",\"Education\",\"Property_Area\",\"Credit_History\"]]\n",
    "    #convert categorical to dummy variables\n",
    "    dum_cate = pd.get_dummies(categorical)\n",
    "    #combine numerical and cateforical data\n",
    "    \n",
    "\n",
    "    if training:\n",
    "        data = pd.concat([dum_cate,numerical,data['Loan_Status']],axis=1).sample(frac=1)\n",
    "#         Yes_data = data.loc[data['Loan_Status']=='Y']\n",
    "#         No_data = data.loc[data['Loan_Status']=='N']\n",
    "#         this_data = pd.concat([Yes_data,No_data],axis=0)\n",
    "        this_X = data.iloc[:,:-1]\n",
    "        this_y = data['Loan_Status']\n",
    "\n",
    "        ss = StandardScaler()\n",
    "        X_data = pd.DataFrame(data=ss.fit_transform(this_X),columns=this_X.columns,index=data.index)\n",
    "        y_data = np.array([int(ele=='Y') for ele in this_y])\n",
    "    else:\n",
    "        data = pd.concat([dum_cate,numerical],axis=1)\n",
    "        #standardize data\n",
    "        ss = StandardScaler()\n",
    "        X_data = pd.DataFrame(data=ss.fit_transform(data),columns=data.columns)\n",
    "        y_data = []\n",
    "    return X_data,y_data,"
   ]
  },
  {
   "cell_type": "code",
   "execution_count": 120,
   "metadata": {},
   "outputs": [],
   "source": [
    "from sklearn.model_selection import KFold\n",
    "from sklearn.metrics import f1_score, classification_report\n",
    "# def get_wrong_data(X_data,y_data,model):\n",
    "#     kf = KFold(n_splits=10,shuffle=True)\n",
    "#     splits = kf.split(X_data)\n",
    "#     wrong_data = set()\n",
    "#     for train_i,val_i in splits:\n",
    "#         X_train = np.take(X_data,train_i,axis=0)\n",
    "#         y_train = np.take(y_data,train_i,axis=0)\n",
    "#         X_val = np.take(X_data,val_i,axis=0)\n",
    "#         y_val = np.take(y_data,val_i,axis=0)\n",
    "#         model.fit(X_train,y_train)\n",
    "#         prediction = model.predict(X_val)\n",
    "#         for p,t,i in zip(list(prediction),list(y_val),val_i):\n",
    "#             if p != t:\n",
    "#                 wrong_data.add(i)\n",
    "#     wrong_X = np.take(X_data,list(wrong_data),axis=0)\n",
    "#     wrong_y = np.take(y_data,list(wrong_data),axis=0)\n",
    "#     return wrong_X,wrong_y,list(wrong_data)\n",
    "\n",
    "def get_wrong_data(X_train,y_train,X_test,y_test,model):\n",
    "    wrong_data = set()\n",
    "    model.fit(X_train,y_train)\n",
    "    prediction = model.predict(X_test)\n",
    "    for p,t,i in zip(list(prediction),list(y_test),X_test.index):\n",
    "        if p != t:\n",
    "            wrong_data.add(i)\n",
    "    wrong_X = np.take(X_test,list(wrong_data),axis=0)\n",
    "    wrong_y = np.take(y_test,list(wrong_data),axis=0)\n",
    "    return wrong_X,wrong_y,list(wrong_data)"
   ]
  },
  {
   "cell_type": "code",
   "execution_count": 132,
   "metadata": {},
   "outputs": [
    {
     "name": "stdout",
     "output_type": "stream",
     "text": [
      "              precision    recall  f1-score   support\n",
      "\n",
      "           0       0.68      0.49      0.57       192\n",
      "           1       0.80      0.90      0.84       422\n",
      "\n",
      "    accuracy                           0.77       614\n",
      "   macro avg       0.74      0.70      0.71       614\n",
      "weighted avg       0.76      0.77      0.76       614\n",
      "\n"
     ]
    }
   ],
   "source": [
    "from sklearn.svm import SVC\n",
    "from sklearn.metrics import classification_report\n",
    "model = SVC(kernel = 'linear')\n",
    "X_data,y_data = preprocess(data)\n",
    "wrong_X,wrong_y,index = get_wrong_data(X_data,y_data,X_data,y_data,model)\n",
    "\n",
    "print(classification_report(y_data,model.predict(X_data)))"
   ]
  },
  {
   "cell_type": "code",
   "execution_count": 131,
   "metadata": {},
   "outputs": [
    {
     "name": "stdout",
     "output_type": "stream",
     "text": [
      "              precision    recall  f1-score   support\n",
      "\n",
      "           0       0.74      0.51      0.60       192\n",
      "           1       0.80      0.92      0.86       422\n",
      "\n",
      "    accuracy                           0.79       614\n",
      "   macro avg       0.77      0.71      0.73       614\n",
      "weighted avg       0.79      0.79      0.78       614\n",
      "\n"
     ]
    }
   ],
   "source": [
    "from sklearn.ensemble import AdaBoostClassifier\n",
    "model = AdaBoostClassifier()\n",
    "model.fit(X_data,y_data)\n",
    "print(classification_report(y_data,model.predict(X_data)))"
   ]
  },
  {
   "cell_type": "code",
   "execution_count": 135,
   "metadata": {},
   "outputs": [
    {
     "name": "stdout",
     "output_type": "stream",
     "text": [
      "              precision    recall  f1-score   support\n",
      "\n",
      "           0       0.97      0.96      0.97       192\n",
      "           1       0.98      0.99      0.98       422\n",
      "\n",
      "    accuracy                           0.98       614\n",
      "   macro avg       0.98      0.97      0.98       614\n",
      "weighted avg       0.98      0.98      0.98       614\n",
      "\n"
     ]
    }
   ],
   "source": [
    "from sklearn.ensemble import RandomForestClassifier\n",
    "model = RandomForestClassifier(n_estimators=10)\n",
    "model.fit(X_data,y_data)\n",
    "print(classification_report(y_data,model.predict(X_data)))"
   ]
  },
  {
   "cell_type": "code",
   "execution_count": 122,
   "metadata": {},
   "outputs": [],
   "source": [
    "wrong = data.iloc[wrong_X.index,:]\n",
    "right = data.drop(wrong_X.index,axis=0)"
   ]
  },
  {
   "cell_type": "code",
   "execution_count": 163,
   "metadata": {},
   "outputs": [
    {
     "name": "stderr",
     "output_type": "stream",
     "text": [
      "C:\\Users\\Chris\\Anaconda3\\lib\\site-packages\\sklearn\\model_selection\\_search.py:813: DeprecationWarning: The default of the `iid` parameter will change from True to False in version 0.22 and will be removed in 0.24. This will change numeric results when test-set sizes are unequal.\n",
      "  DeprecationWarning)\n"
     ]
    }
   ],
   "source": [
    "#import machine learning libraries\n",
    "from sklearn.model_selection import GridSearchCV\n",
    "\n",
    "\n",
    "#Define the search parameters in lists\n",
    "n_estimators = [60]\n",
    "max_depth = [3]\n",
    "min_samples_split = [4]\n",
    "min_samples_leaf = [3]\n",
    "class_weight = ['balanced']\n",
    "max_features = [None]\n",
    "#Make a dictionary of search parameters\n",
    "param_grid = dict(n_estimators=n_estimators,max_depth=max_depth,\n",
    "                  min_samples_split=min_samples_split,\n",
    "                 min_samples_leaf=min_samples_leaf,\n",
    "                 class_weight=class_weight,\n",
    "                 max_features=max_features)\n",
    "#Build and fit the RandomizedSearchCV. I have used GridSeachCV before but since the algorithm is \n",
    "#going through every permutation possible, it is very expansive computationally. RandomizedSearchCV\n",
    "#only go through the permutation randomly, it gives an estimate of what the best parameters should be.\n",
    "\n",
    "#KFold is a cross validation method to estimate the accuracy of the model without using the test set.\n",
    "#Here I am setting the random_state to a seed so that it will split the same way every training. \n",
    "search = GridSearchCV(estimator=model, param_grid=param_grid,cv=10,scoring='f1',verbose=0)\n",
    "_=search.fit(X_data,y_data)"
   ]
  },
  {
   "cell_type": "code",
   "execution_count": 164,
   "metadata": {},
   "outputs": [
    {
     "name": "stdout",
     "output_type": "stream",
     "text": [
      "              precision    recall  f1-score   support\n",
      "\n",
      "           0       0.70      0.51      0.59       192\n",
      "           1       0.80      0.90      0.85       422\n",
      "\n",
      "    accuracy                           0.78       614\n",
      "   macro avg       0.75      0.70      0.72       614\n",
      "weighted avg       0.77      0.78      0.77       614\n",
      "\n",
      "{'class_weight': 'balanced', 'max_depth': 3, 'max_features': None, 'min_samples_leaf': 3, 'min_samples_split': 4, 'n_estimators': 60}\n",
      "0.8442544779181953\n"
     ]
    }
   ],
   "source": [
    "print(classification_report(y_data,search.predict(X_data)))\n",
    "print(search.best_params_)\n",
    "print(search.best_score_)"
   ]
  },
  {
   "cell_type": "code",
   "execution_count": null,
   "metadata": {},
   "outputs": [],
   "source": []
  },
  {
   "cell_type": "code",
   "execution_count": 123,
   "metadata": {},
   "outputs": [
    {
     "data": {
      "text/plain": [
       "<matplotlib.axes._subplots.AxesSubplot at 0x17bf07a7e48>"
      ]
     },
     "execution_count": 123,
     "metadata": {},
     "output_type": "execute_result"
    },
    {
     "data": {
      "image/png": "[encoded data removed]",
      "text/plain": [
       "<Figure size 432x288 with 1 Axes>"
      ]
     },
     "metadata": {
      "needs_background": "light"
     },
     "output_type": "display_data"
    }
   ],
   "source": [
    "sns.countplot(wrong.iloc[:,2])"
   ]
  },
  {
   "cell_type": "code",
   "execution_count": 124,
   "metadata": {},
   "outputs": [
    {
     "data": {
      "text/plain": [
       "<matplotlib.axes._subplots.AxesSubplot at 0x17bf00f2160>"
      ]
     },
     "execution_count": 124,
     "metadata": {},
     "output_type": "execute_result"
    },
    {
     "data": {
      "image/png": "[encoded data removed]",
      "text/plain": [
       "<Figure size 432x288 with 1 Axes>"
      ]
     },
     "metadata": {
      "needs_background": "light"
     },
     "output_type": "display_data"
    }
   ],
   "source": [
    "sns.countplot(right.iloc[:,2])"
   ]
  },
  {
   "cell_type": "code",
   "execution_count": 117,
   "metadata": {},
   "outputs": [
    {
     "data": {
      "image/png": "[encoded data removed]",
      "text/plain": [
       "<Figure size 432x288 with 1 Axes>"
      ]
     },
     "metadata": {
      "needs_background": "light"
     },
     "output_type": "display_data"
    }
   ],
   "source": [
    "right.iloc[:,6].hist()\n",
    "wrong.iloc[:,6].hist()\n",
    "plt.show()"
   ]
  },
  {
   "cell_type": "code",
   "execution_count": 119,
   "metadata": {},
   "outputs": [
    {
     "data": {
      "image/png": "[encoded data removed]",
      "text/plain": [
       "<Figure size 432x288 with 1 Axes>"
      ]
     },
     "metadata": {
      "needs_background": "light"
     },
     "output_type": "display_data"
    }
   ],
   "source": [
    "right.iloc[:,7].hist()\n",
    "wrong.iloc[:,7].hist()\n",
    "plt.show()"
   ]
  },
  {
   "cell_type": "code",
   "execution_count": 10,
   "metadata": {},
   "outputs": [
    {
     "data": {
      "text/plain": [
       "array([5, 3, 2])"
      ]
     },
     "execution_count": 10,
     "metadata": {},
     "output_type": "execute_result"
    }
   ],
   "source": [
    "a = [5,4,3,2,1]\n",
    "np.take(a,[0,2,3],axis=0)"
   ]
  },
  {
   "cell_type": "code",
   "execution_count": 6,
   "metadata": {},
   "outputs": [],
   "source": [
    "import numpy as np\n",
    "class Voting:\n",
    "    def __init__(self,names_models):\n",
    "        self.names_models = names_models\n",
    "    def predict(self,X):\n",
    "        preds = []\n",
    "        for name,model in self.names_models:\n",
    "            preds.append(model.predict(X))\n",
    "        preds = np.array(preds)\n",
    "#         print(preds)\n",
    "        preds = np.mean(preds,axis=0)\n",
    "#         print(preds.shape)\n",
    "#         print(preds)\n",
    "        return np.round(preds)\n"
   ]
  },
  {
   "cell_type": "code",
   "execution_count": 7,
   "metadata": {},
   "outputs": [],
   "source": [
    "X_list,y_list = preprocess(data,training=True,data_size=30,n_data=300)\n",
    "\n",
    "from sklearn.svm import SVR\n",
    "names = []\n",
    "models = []\n",
    "i = 0\n",
    "for X,y in zip(X_list,y_list):\n",
    "    linear = SVR(kernel='sigmoid',gamma='auto')\n",
    "    linear.fit(X,y)\n",
    "    names.append(str(i))\n",
    "    models.append(linear)\n",
    "    i+=1\n",
    "\n",
    "model = Voting(list(zip(names,models)))"
   ]
  },
  {
   "cell_type": "code",
   "execution_count": null,
   "metadata": {},
   "outputs": [],
   "source": [
    "from sklearn.metrics import f1_score\n",
    "train_X,train = preprocess(data,training=False)\n",
    "f1_score(model)"
   ]
  },
  {
   "cell_type": "code",
   "execution_count": null,
   "metadata": {},
   "outputs": [],
   "source": [
    "# from sklearn.metrics import accuracy_score\n",
    "# def select(X_list,y_list,models):\n",
    "    \n",
    "#     acc = []\n",
    "#     for i,(X,y,model) in enumerate(zip(X_list,y_list,models)):\n",
    "#         X_val = pd.DataFrame([[]],columns=X.columns)\n",
    "#         y_val = pd.DataFrame(columns=y.columns)\n",
    "#         for j,(df_X,df_y) in enumerate(zip(X_list,y_list)):\n",
    "#             if j != i:\n",
    "#                 X_val = pd.concat([X_val,df_X],axis=0)\n",
    "#                 y_val = pd.concat([y_val,df_y],axis=0)\n",
    "#         acc.append(accuracy_score(y_val,model.predict(X_val)))\n",
    "        "
   ]
  },
  {
   "cell_type": "code",
   "execution_count": 8,
   "metadata": {},
   "outputs": [],
   "source": [
    "test_path = \"Dataset/Loan/test.csv\"\n",
    "test_data = pd.read_csv(test_path)\n",
    "\n",
    "test_X,_ = preprocess(test_data,training=False)\n",
    "\n",
    "test_data['Loan_Status'] = model.predict(test_X)\n",
    "\n",
    "test_data['Loan_Status'] = ['Y' if e==1 else 'N' for e in test_data['Loan_Status']]\n",
    "\n",
    "test_data[['Loan_ID','Loan_Status']].to_csv('Dataset/Loan/submit2.csv',index=False)"
   ]
  },
  {
   "cell_type": "code",
   "execution_count": 9,
   "metadata": {},
   "outputs": [],
   "source": [
    "test_data[['Loan_ID','Loan_Status']].to_csv('Dataset/Loan/submit2.csv',index=False)"
   ]
  }
 ],
 "metadata": {
  "kernelspec": {
   "display_name": "Python 3",
   "language": "python",
   "name": "python3"
  },
  "language_info": {
   "codemirror_mode": {
    "name": "ipython",
    "version": 3
   },
   "file_extension": ".py",
   "mimetype": "text/x-python",
   "name": "python",
   "nbconvert_exporter": "python",
   "pygments_lexer": "ipython3",
   "version": "3.7.3"
  }
 },
 "nbformat": 4,
 "nbformat_minor": 2
}
