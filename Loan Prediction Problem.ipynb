{
 "cells": [
  {
   "cell_type": "markdown",
   "metadata": {},
   "source": [
    "# Loan Acceptance Prediction"
   ]
  },
  {
   "cell_type": "markdown",
   "metadata": {},
   "source": [
    "Read data and import libraries"
   ]
  },
  {
   "cell_type": "code",
   "execution_count": 1,
   "metadata": {
    "scrolled": true
   },
   "outputs": [],
   "source": [
    "import pandas as pd\n",
    "import math as m\n",
    "import numpy as np\n",
    "path = \"Dataset/Loan/train.csv\"\n",
    "data = pd.read_csv(path)"
   ]
  },
  {
   "cell_type": "code",
   "execution_count": 2,
   "metadata": {},
   "outputs": [
    {
     "data": {
      "image/png": "[encoded data removed]",
      "text/plain": [
       "<Figure size 432x288 with 1 Axes>"
      ]
     },
     "metadata": {
      "needs_background": "light"
     },
     "output_type": "display_data"
    }
   ],
   "source": [
    "import matplotlib.pyplot as plt\n",
    "import seaborn as sns\n",
    "%matplotlib inline\n",
    "sns.countplot(data['Loan_Status'])\n",
    "plt.show()"
   ]
  },
  {
   "cell_type": "markdown",
   "metadata": {},
   "source": [
    "Data preprocessing"
   ]
  },
  {
   "cell_type": "code",
   "execution_count": 3,
   "metadata": {
    "scrolled": true
   },
   "outputs": [],
   "source": [
    "from sklearn.preprocessing import StandardScaler\n",
    "def preprocess(data,training=True,data_size=None,n_data=10):\n",
    "    #remove NaN values\n",
    "    data = data.fillna(0)\n",
    "    #separate numerical and categorical data from each other\n",
    "    numerical = data[[\"ApplicantIncome\",\"CoapplicantIncome\",\"LoanAmount\",\"Loan_Amount_Term\"]]\n",
    "    categorical = data[[\"Dependents\",\"Education\",\"Property_Area\",\"Credit_History\"]]\n",
    "    #convert categorical to dummy variables\n",
    "    dum_cate = pd.get_dummies(categorical)\n",
    "    #combine numerical and cateforical data\n",
    "    \n",
    "\n",
    "    if training:\n",
    "        data = pd.concat([dum_cate,numerical,data['Loan_Status']],axis=1)\n",
    "        X_data = []\n",
    "        y_data = []\n",
    "        for i in range(0,n_data):\n",
    "            Yes_data = data.loc[data['Loan_Status']=='Y'].sample(data_size,replace=False)\n",
    "            No_data = data.loc[data['Loan_Status']=='N'].sample(data_size,replace=False)\n",
    "            this_data = pd.concat([Yes_data,No_data],axis=0)\n",
    "            this_X = this_data.iloc[:,:-1]\n",
    "            this_y = this_data['Loan_Status']\n",
    "            \n",
    "            ss = StandardScaler()\n",
    "            this_X = pd.DataFrame(data=ss.fit_transform(this_X),columns=this_X.columns)\n",
    "            X_data.append(this_X)\n",
    "            code_y = np.array([int(ele=='Y') for ele in this_y])\n",
    "            y_data.append(code_y)\n",
    "    else:\n",
    "        data = pd.concat([dum_cate,numerical],axis=1)\n",
    "        #standardize data\n",
    "        ss = StandardScaler()\n",
    "        X_data = pd.DataFrame(data=ss.fit_transform(data),columns=data.columns)\n",
    "        y_data = []\n",
    "    return X_data,y_data"
   ]
  },
  {
   "cell_type": "code",
   "execution_count": 6,
   "metadata": {},
   "outputs": [],
   "source": [
    "import numpy as np\n",
    "class Voting:\n",
    "    def __init__(self,names_models):\n",
    "        self.names_models = names_models\n",
    "    def predict(self,X):\n",
    "        preds = []\n",
    "        for name,model in self.names_models:\n",
    "            preds.append(model.predict(X))\n",
    "        preds = np.array(preds)\n",
    "#         print(preds)\n",
    "        preds = np.mean(preds,axis=0)\n",
    "#         print(preds.shape)\n",
    "#         print(preds)\n",
    "        return np.round(preds)\n"
   ]
  },
  {
   "cell_type": "code",
   "execution_count": 7,
   "metadata": {},
   "outputs": [],
   "source": [
    "X_list,y_list = preprocess(data,training=True,data_size=30,n_data=300)\n",
    "\n",
    "from sklearn.svm import SVR\n",
    "names = []\n",
    "models = []\n",
    "i = 0\n",
    "for X,y in zip(X_list,y_list):\n",
    "    linear = SVR(kernel='sigmoid',gamma='auto')\n",
    "    linear.fit(X,y)\n",
    "    names.append(str(i))\n",
    "    models.append(linear)\n",
    "    i+=1\n",
    "\n",
    "model = Voting(list(zip(names,models)))"
   ]
  },
  {
   "cell_type": "code",
   "execution_count": 8,
   "metadata": {},
   "outputs": [],
   "source": [
    "test_path = \"Dataset/Loan/test.csv\"\n",
    "test_data = pd.read_csv(test_path)\n",
    "\n",
    "test_X,_ = preprocess(test_data,training=False)\n",
    "\n",
    "test_data['Loan_Status'] = model.predict(test_X)\n",
    "\n",
    "test_data['Loan_Status'] = ['Y' if e==1 else 'N' for e in test_data['Loan_Status']]\n",
    "\n",
    "test_data[['Loan_ID','Loan_Status']].to_csv('Dataset/Loan/submit2.csv',index=False)"
   ]
  },
  {
   "cell_type": "code",
   "execution_count": 9,
   "metadata": {},
   "outputs": [],
   "source": [
    "test_data[['Loan_ID','Loan_Status']].to_csv('Dataset/Loan/submit2.csv',index=False)"
   ]
  }
 ],
 "metadata": {
  "kernelspec": {
   "display_name": "Python 3",
   "language": "python",
   "name": "python3"
  },
  "language_info": {
   "codemirror_mode": {
    "name": "ipython",
    "version": 3
   },
   "file_extension": ".py",
   "mimetype": "text/x-python",
   "name": "python",
   "nbconvert_exporter": "python",
   "pygments_lexer": "ipython3",
   "version": "3.7.3"
  }
 },
 "nbformat": 4,
 "nbformat_minor": 2
}
