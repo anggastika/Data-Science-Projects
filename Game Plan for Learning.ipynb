{
 "cells": [
  {
   "cell_type": "markdown",
   "metadata": {},
   "source": [
    "# General weekly goal"
   ]
  },
  {
   "cell_type": "markdown",
   "metadata": {},
   "source": [
    "Mon: \n",
    "- Explore new projects/topics.\n",
    "- Identify new skills to learn. \n",
    "- Continue unfinished projects"
   ]
  },
  {
   "cell_type": "markdown",
   "metadata": {},
   "source": [
    "Tue:\n",
    "- Start working on a new project\n",
    "- Continue unfinished projects"
   ]
  },
  {
   "cell_type": "markdown",
   "metadata": {},
   "source": [
    "Wed: \n",
    "- Go through another person's work (find in kaggle or github)\n",
    "- Continue unfinished projects"
   ]
  },
  {
   "cell_type": "markdown",
   "metadata": {},
   "source": [
    "Thurs: \n",
    "- Gain new skills using DataCamp\n",
    "- Continue unfinished projects"
   ]
  },
  {
   "cell_type": "markdown",
   "metadata": {},
   "source": [
    "Fri:\n",
    "- Continue unfinished projects"
   ]
  },
  {
   "cell_type": "markdown",
   "metadata": {},
   "source": [
    "Sat:\n",
    "- Read \"Deep Learning with Python\" book\n",
    "- Continue unfinished projects"
   ]
  },
  {
   "cell_type": "markdown",
   "metadata": {},
   "source": [
    "Sun:\n",
    "- Study Statistics\n",
    "- Continue unfinished projects"
   ]
  }
 ],
 "metadata": {
  "kernelspec": {
   "display_name": "Python 3",
   "language": "python",
   "name": "python3"
  },
  "language_info": {
   "codemirror_mode": {
    "name": "ipython",
    "version": 3
   },
   "file_extension": ".py",
   "mimetype": "text/x-python",
   "name": "python",
   "nbconvert_exporter": "python",
   "pygments_lexer": "ipython3",
   "version": "3.6.5"
  }
 },
 "nbformat": 4,
 "nbformat_minor": 2
}
