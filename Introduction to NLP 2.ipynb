{
 "cells": [
  {
   "cell_type": "markdown",
   "metadata": {},
   "source": [
    "# Using nltk functionality to preprocess text data"
   ]
  },
  {
   "cell_type": "code",
   "execution_count": 178,
   "metadata": {},
   "outputs": [],
   "source": [
    "import pandas as pd\n",
    "import matplotlib.pyplot as plt\n",
    "%matplotlib inline"
   ]
  },
  {
   "cell_type": "markdown",
   "metadata": {},
   "source": [
    "### Reading data set"
   ]
  },
  {
   "cell_type": "code",
   "execution_count": 187,
   "metadata": {},
   "outputs": [
    {
     "data": {
      "text/html": [
       "<div>\n",
       "<style scoped>\n",
       "    .dataframe tbody tr th:only-of-type {\n",
       "        vertical-align: middle;\n",
       "    }\n",
       "\n",
       "    .dataframe tbody tr th {\n",
       "        vertical-align: top;\n",
       "    }\n",
       "\n",
       "    .dataframe thead th {\n",
       "        text-align: right;\n",
       "    }\n",
       "</style>\n",
       "<table border=\"1\" class=\"dataframe\">\n",
       "  <thead>\n",
       "    <tr style=\"text-align: right;\">\n",
       "      <th></th>\n",
       "      <th>0</th>\n",
       "      <th>1</th>\n",
       "    </tr>\n",
       "  </thead>\n",
       "  <tbody>\n",
       "    <tr>\n",
       "      <th>0</th>\n",
       "      <td>ham</td>\n",
       "      <td>Go until jurong point, crazy.. Available only ...</td>\n",
       "    </tr>\n",
       "    <tr>\n",
       "      <th>1</th>\n",
       "      <td>ham</td>\n",
       "      <td>Ok lar... Joking wif u oni...</td>\n",
       "    </tr>\n",
       "    <tr>\n",
       "      <th>2</th>\n",
       "      <td>spam</td>\n",
       "      <td>Free entry in 2 a wkly comp to win FA Cup fina...</td>\n",
       "    </tr>\n",
       "    <tr>\n",
       "      <th>3</th>\n",
       "      <td>ham</td>\n",
       "      <td>U dun say so early hor... U c already then say...</td>\n",
       "    </tr>\n",
       "    <tr>\n",
       "      <th>4</th>\n",
       "      <td>ham</td>\n",
       "      <td>Nah I don't think he goes to usf, he lives aro...</td>\n",
       "    </tr>\n",
       "  </tbody>\n",
       "</table>\n",
       "</div>"
      ],
      "text/plain": [
       "      0                                                  1\n",
       "0   ham  Go until jurong point, crazy.. Available only ...\n",
       "1   ham                      Ok lar... Joking wif u oni...\n",
       "2  spam  Free entry in 2 a wkly comp to win FA Cup fina...\n",
       "3   ham  U dun say so early hor... U c already then say...\n",
       "4   ham  Nah I don't think he goes to usf, he lives aro..."
      ]
     },
     "execution_count": 187,
     "metadata": {},
     "output_type": "execute_result"
    }
   ],
   "source": [
    "data = pd.read_csv('Dataset/SMSSpamCollection',header=None,delimiter='\\t',encoding='utf-8')\n",
    "data[0:5]"
   ]
  },
  {
   "cell_type": "markdown",
   "metadata": {},
   "source": [
    "### Encode labels as 1 and 0"
   ]
  },
  {
   "cell_type": "code",
   "execution_count": 3,
   "metadata": {},
   "outputs": [
    {
     "data": {
      "text/plain": [
       "array([0, 0, 1, ..., 0, 0, 0])"
      ]
     },
     "execution_count": 3,
     "metadata": {},
     "output_type": "execute_result"
    }
   ],
   "source": [
    "from sklearn.preprocessing import LabelEncoder\n",
    "encoder = LabelEncoder()\n",
    "y = encoder.fit_transform(data.iloc[:,0])\n",
    "y"
   ]
  },
  {
   "cell_type": "markdown",
   "metadata": {},
   "source": [
    "### Visualizing balance of the dataset"
   ]
  },
  {
   "cell_type": "code",
   "execution_count": 4,
   "metadata": {},
   "outputs": [
    {
     "data": {
      "image/png": "[encoded data removed]",
      "text/plain": [
       "<Figure size 432x288 with 1 Axes>"
      ]
     },
     "metadata": {
      "needs_background": "light"
     },
     "output_type": "display_data"
    }
   ],
   "source": [
    "plt.hist(y)\n",
    "plt.title('Ham (0) vs Spam (1)')\n",
    "plt.ylabel('counts')\n",
    "plt.xlabel('categories')\n",
    "plt.show()"
   ]
  },
  {
   "cell_type": "code",
   "execution_count": 179,
   "metadata": {},
   "outputs": [],
   "source": [
    "import re\n",
    "from nltk.tokenize import word_tokenize\n",
    "from nltk.corpus import stopwords\n",
    "from nltk import FreqDist\n",
    "from nltk.stem import PorterStemmer\n",
    "from sklearn.preprocessing import StandardScaler\n",
    "def preprocess(text):\n",
    "    # take a text string and break them down into ready-to-use word tokens\n",
    "    def sub_text(text):\n",
    "        # Replaces information such as email and websites within a string\n",
    "        # Replace emails addresses\n",
    "        sub_text = re.sub(r'[a-z0-9_]+@[a-z0-9]+(\\.[a-z0-9]+)+','emailaddress',text)\n",
    "        # Replace website\n",
    "        sub_text = re.sub(r'https\\://[a-z0-9\\._%/]+','webaddress',sub_text)\n",
    "        # Replace number\n",
    "        sub_text = re.sub(r'\\d+(\\.\\d)?','numbr',sub_text)\n",
    "        # Replace phone number\n",
    "        sub_text = re.sub(r'\\(?([0-9]{3}[- \\)]?){2}[0-9]{4}','phonenumber',sub_text)\n",
    "        # Replace money symbol\n",
    "        sub_text = re.sub(r'\\$|£','moneysymbol',sub_text)\n",
    "        # Replace punctuations with spaces\n",
    "        sub_text = re.sub(r'[\\(\\)\\.\\?\\:,!]',' ',sub_text)\n",
    "        return sub_text\n",
    "    # Call sub_text function\n",
    "    text = sub_text(text)\n",
    "    # Put everything into lower case\n",
    "    text = text.lower()\n",
    "    # Tokenize into words for each string\n",
    "    word_toks = word_tokenize(text)\n",
    "    # Remove stopwords\n",
    "    stop_words = stopwords.words('english')\n",
    "    word_toks = [w for w in word_toks if w not in stop_words]\n",
    "    # Perform stemming\n",
    "    ps = PorterStemmer()\n",
    "    word_toks = [ps.stem(w) for w in word_toks]\n",
    "    return word_toks\n",
    "# proprocess into list of list of word tokens\n",
    "samples = [preprocess(text) for text in texts]\n",
    "\n",
    "# Make bag-of-words feature with 1500 most common words\n",
    "all_words = []\n",
    "for word_toks in samples:\n",
    "    all_words += word_toks\n",
    "freq_words = FreqDist(all_words)\n",
    "common_words = list(freq_words.keys())[0:1500]\n",
    "\n",
    "def generate_features(sample):\n",
    "    # search for all 1500 of most common words in the token list of each sample\n",
    "    sample = set(sample)\n",
    "    feature = np.array([w in sample for w in common_words]).astype(int)\n",
    "    return feature\n",
    "X = np.array([generate_features(sample) for sample in samples])\n",
    "# Feature Scaling\n",
    "standard = StandardScaler()\n",
    "X_scaled = standard.fit_transform(X.astype(float))"
   ]
  },
  {
   "cell_type": "markdown",
   "metadata": {},
   "source": [
    "## Training models"
   ]
  },
  {
   "cell_type": "markdown",
   "metadata": {},
   "source": [
    "### Use cross validation methods to more accurately determine the metrics"
   ]
  },
  {
   "cell_type": "code",
   "execution_count": 148,
   "metadata": {},
   "outputs": [],
   "source": [
    "# kfold\n",
    "from sklearn.model_selection import KFold\n",
    "from sklearn.model_selection import cross_val_score\n",
    "kfold = KFold(n_splits=5,random_state=1)\n",
    "# Standardize data\n",
    "from sklearn.preprocessing import StandardScaler"
   ]
  },
  {
   "cell_type": "markdown",
   "metadata": {},
   "source": [
    "### Try several different models and evaluate each of each performances. Using f1 score to better evaluate an imbalanced dataset."
   ]
  },
  {
   "cell_type": "code",
   "execution_count": 157,
   "metadata": {},
   "outputs": [
    {
     "name": "stderr",
     "output_type": "stream",
     "text": [
      "C:\\Users\\Chris\\Anaconda3\\lib\\site-packages\\sklearn\\svm\\base.py:196: FutureWarning: The default value of gamma will change from 'auto' to 'scale' in version 0.22 to account better for unscaled features. Set gamma explicitly to 'auto' or 'scale' to avoid this warning.\n",
      "  \"avoid this warning.\", FutureWarning)\n",
      "C:\\Users\\Chris\\Anaconda3\\lib\\site-packages\\sklearn\\svm\\base.py:196: FutureWarning: The default value of gamma will change from 'auto' to 'scale' in version 0.22 to account better for unscaled features. Set gamma explicitly to 'auto' or 'scale' to avoid this warning.\n",
      "  \"avoid this warning.\", FutureWarning)\n",
      "C:\\Users\\Chris\\Anaconda3\\lib\\site-packages\\sklearn\\svm\\base.py:196: FutureWarning: The default value of gamma will change from 'auto' to 'scale' in version 0.22 to account better for unscaled features. Set gamma explicitly to 'auto' or 'scale' to avoid this warning.\n",
      "  \"avoid this warning.\", FutureWarning)\n",
      "C:\\Users\\Chris\\Anaconda3\\lib\\site-packages\\sklearn\\svm\\base.py:196: FutureWarning: The default value of gamma will change from 'auto' to 'scale' in version 0.22 to account better for unscaled features. Set gamma explicitly to 'auto' or 'scale' to avoid this warning.\n",
      "  \"avoid this warning.\", FutureWarning)\n",
      "C:\\Users\\Chris\\Anaconda3\\lib\\site-packages\\sklearn\\svm\\base.py:196: FutureWarning: The default value of gamma will change from 'auto' to 'scale' in version 0.22 to account better for unscaled features. Set gamma explicitly to 'auto' or 'scale' to avoid this warning.\n",
      "  \"avoid this warning.\", FutureWarning)\n",
      "C:\\Users\\Chris\\Anaconda3\\lib\\site-packages\\sklearn\\ensemble\\forest.py:246: FutureWarning: The default value of n_estimators will change from 10 in version 0.20 to 100 in 0.22.\n",
      "  \"10 in version 0.20 to 100 in 0.22.\", FutureWarning)\n",
      "C:\\Users\\Chris\\Anaconda3\\lib\\site-packages\\sklearn\\ensemble\\forest.py:246: FutureWarning: The default value of n_estimators will change from 10 in version 0.20 to 100 in 0.22.\n",
      "  \"10 in version 0.20 to 100 in 0.22.\", FutureWarning)\n",
      "C:\\Users\\Chris\\Anaconda3\\lib\\site-packages\\sklearn\\ensemble\\forest.py:246: FutureWarning: The default value of n_estimators will change from 10 in version 0.20 to 100 in 0.22.\n",
      "  \"10 in version 0.20 to 100 in 0.22.\", FutureWarning)\n",
      "C:\\Users\\Chris\\Anaconda3\\lib\\site-packages\\sklearn\\ensemble\\forest.py:246: FutureWarning: The default value of n_estimators will change from 10 in version 0.20 to 100 in 0.22.\n",
      "  \"10 in version 0.20 to 100 in 0.22.\", FutureWarning)\n",
      "C:\\Users\\Chris\\Anaconda3\\lib\\site-packages\\sklearn\\ensemble\\forest.py:246: FutureWarning: The default value of n_estimators will change from 10 in version 0.20 to 100 in 0.22.\n",
      "  \"10 in version 0.20 to 100 in 0.22.\", FutureWarning)\n"
     ]
    }
   ],
   "source": [
    "# import all algorithms to try out\n",
    "from sklearn.svm import SVC\n",
    "from sklearn.ensemble import AdaBoostClassifier\n",
    "from sklearn.ensemble import RandomForestClassifier\n",
    "from sklearn.neighbors import KNeighborsClassifier\n",
    "\n",
    "svm_linear = SVC(kernel='linear',class_weight='balanced')\n",
    "svm_rbf = SVC(kernel='rbf',class_weight='balanced')\n",
    "adaboost = AdaBoostClassifier()\n",
    "Random_Forest = RandomForestClassifier()\n",
    "KNN = KNeighborsClassifier()\n",
    "names = ['svm_linear','svm_rbf','adaboost','Random_Forest','KNN']\n",
    "models = [svm_linear,svm_rbf,adaboost,Random_Forest,KNN]\n",
    "scores = []\n",
    "for model in models:\n",
    "    scores.append(np.average(cross_val_score(model,X_scaled,y,cv=kfold,scoring='f1')))"
   ]
  },
  {
   "cell_type": "markdown",
   "metadata": {},
   "source": [
    "### Evaluation: Random Forest has the best performance"
   ]
  },
  {
   "cell_type": "code",
   "execution_count": 158,
   "metadata": {},
   "outputs": [
    {
     "name": "stdout",
     "output_type": "stream",
     "text": [
      "name:svm_linear,scores:0.8720464758778489\n",
      "name:svm_rbf,scores:0.8791512786830946\n",
      "name:adaboost,scores:0.9042098238550935\n",
      "name:Random_Forest,scores:0.9238585657909837\n",
      "name:KNN,scores:0.6087643276942559\n"
     ]
    }
   ],
   "source": [
    "for name,score in zip(names,scores):\n",
    "    print('name:{},scores:{}'.format(name,score))"
   ]
  },
  {
   "cell_type": "code",
   "execution_count": null,
   "metadata": {},
   "outputs": [],
   "source": []
  },
  {
   "cell_type": "code",
   "execution_count": 164,
   "metadata": {},
   "outputs": [
    {
     "name": "stdout",
     "output_type": "stream",
     "text": [
      "              precision    recall  f1-score   support\n",
      "\n",
      "           0       0.98      1.00      0.99      1206\n",
      "           1       0.99      0.87      0.93       187\n",
      "\n",
      "   micro avg       0.98      0.98      0.98      1393\n",
      "   macro avg       0.98      0.93      0.96      1393\n",
      "weighted avg       0.98      0.98      0.98      1393\n",
      "\n"
     ]
    }
   ],
   "source": [
    "from sklearn.metrics import classification_report\n",
    "# train test split\n",
    "from sklearn.model_selection import train_test_split\n",
    "X_train,X_test,y_train,y_test = train_test_split(X_scaled,y)\n",
    "Random_Forest.fit(X_train,y_train)\n",
    "print(classification_report(y_test,Random_Forest.predict(X_test)))"
   ]
  },
  {
   "cell_type": "code",
   "execution_count": 179,
   "metadata": {},
   "outputs": [],
   "source": [
    "import re\n",
    "from nltk.tokenize import word_tokenize\n",
    "from nltk.corpus import stopwords\n",
    "from nltk import FreqDist\n",
    "from nltk.stem import PorterStemmer\n",
    "from sklearn.preprocessing import StandardScaler\n",
    "def preprocess(text):\n",
    "    # take a text string and break them down into ready-to-use word tokens\n",
    "    def sub_text(text):\n",
    "        # Replaces information such as email and websites within a string\n",
    "        # Replace emails addresses\n",
    "        sub_text = re.sub(r'[a-z0-9_]+@[a-z0-9]+(\\.[a-z0-9]+)+','emailaddress',text)\n",
    "        # Replace website\n",
    "        sub_text = re.sub(r'https\\://[a-z0-9\\._%/]+','webaddress',sub_text)\n",
    "        # Replace number\n",
    "        sub_text = re.sub(r'\\d+(\\.\\d)?','numbr',sub_text)\n",
    "        # Replace phone number\n",
    "        sub_text = re.sub(r'\\(?([0-9]{3}[- \\)]?){2}[0-9]{4}','phonenumber',sub_text)\n",
    "        # Replace money symbol\n",
    "        sub_text = re.sub(r'\\$|£','moneysymbol',sub_text)\n",
    "        # Replace punctuations with spaces\n",
    "        sub_text = re.sub(r'[\\(\\)\\.\\?\\:,!]',' ',sub_text)\n",
    "        return sub_text\n",
    "    # Call sub_text function\n",
    "    text = sub_text(text)\n",
    "    # Put everything into lower case\n",
    "    text = text.lower()\n",
    "    # Tokenize into words for each string\n",
    "    word_toks = word_tokenize(text)\n",
    "    # Remove stopwords\n",
    "    stop_words = stopwords.words('english')\n",
    "    word_toks = [w for w in word_toks if w not in stop_words]\n",
    "    # Perform stemming\n",
    "    ps = PorterStemmer()\n",
    "    word_toks = [ps.stem(w) for w in word_toks]\n",
    "    return word_toks\n",
    "# proprocess into list of list of word tokens\n",
    "samples = [preprocess(text) for text in texts]\n",
    "\n",
    "# Make bag-of-words feature with 1500 most common words\n",
    "all_words = []\n",
    "for word_toks in samples:\n",
    "    all_words += word_toks\n",
    "freq_words = FreqDist(all_words)\n",
    "common_words = list(freq_words.keys())[0:1500]\n",
    "\n",
    "def generate_features(sample):\n",
    "    # search for all 1500 of most common words in the token list of each sample\n",
    "    sample = set(sample)\n",
    "    feature = np.array([w in sample for w in common_words]).astype(int)\n",
    "    return feature\n",
    "X = np.array([generate_features(sample) for sample in samples])\n",
    "# Feature Scaling\n",
    "standard = StandardScaler()\n",
    "X_scaled = standard.fit_transform(X.astype(float))"
   ]
  },
  {
   "cell_type": "code",
   "execution_count": 175,
   "metadata": {},
   "outputs": [
    {
     "data": {
      "text/plain": [
       "array([1])"
      ]
     },
     "execution_count": 175,
     "metadata": {},
     "output_type": "execute_result"
    }
   ],
   "source": [
    "scam1 = 'User #25384: Your Gmail profile has been compromised. Text back SENDNOW in order to reactivate your account.'\n",
    "\n",
    "tokens = preprocess(scam1)\n",
    "X1 = np.array([generate_features(tokens)])\n",
    "X1_scaled = standard.transform(X1.astype(float))\n",
    "Random_Forest.predict(X1_scaled)"
   ]
  },
  {
   "cell_type": "code",
   "execution_count": 176,
   "metadata": {},
   "outputs": [
    {
     "data": {
      "text/plain": [
       "array([0])"
      ]
     },
     "execution_count": 176,
     "metadata": {},
     "output_type": "execute_result"
    }
   ],
   "source": [
    "ham1 = 'Yeah, it took an extra hour though. Our train totally malfunctioned'\n",
    "tokens = preprocess(ham1)\n",
    "X1 = np.array([generate_features(tokens)])\n",
    "X1_scaled = standard.transform(X1.astype(float))\n",
    "Random_Forest.predict(X1_scaled)"
   ]
  },
  {
   "cell_type": "code",
   "execution_count": null,
   "metadata": {},
   "outputs": [],
   "source": [
    "from sklearn.metrics import "
   ]
  },
  {
   "cell_type": "code",
   "execution_count": null,
   "metadata": {},
   "outputs": [],
   "source": [
    "a = [1,2,3]\n"
   ]
  },
  {
   "cell_type": "code",
   "execution_count": null,
   "metadata": {},
   "outputs": [],
   "source": [
    "a = ['1','2','3']\n"
   ]
  },
  {
   "cell_type": "markdown",
   "metadata": {},
   "source": [
    "### Data preprocessing using Regex\n",
    "1) "
   ]
  },
  {
   "cell_type": "code",
   "execution_count": 180,
   "metadata": {},
   "outputs": [
    {
     "data": {
      "text/plain": [
       "'this is my email address: emailaddress. Please email me back.'"
      ]
     },
     "execution_count": 180,
     "metadata": {},
     "output_type": "execute_result"
    }
   ],
   "source": [
    "import re\n",
    "a = 'this is my email address: chrislyc_1991@gmail.com.net. Please email me back.'\n",
    "re.sub(r'[a-z0-9_]+@[a-z0-9]+(\\.[a-z0-9]+)+','emailaddress',a)"
   ]
  },
  {
   "cell_type": "code",
   "execution_count": 182,
   "metadata": {},
   "outputs": [
    {
     "data": {
      "text/plain": [
       "'go to this website (webaddress) to check out a python tutorial'"
      ]
     },
     "execution_count": 182,
     "metadata": {},
     "output_type": "execute_result"
    }
   ],
   "source": [
    "b = 'go to this website (https://docs.python.org/2/library/re.html) to check out a python tutorial'\n",
    "re.sub(r'https\\://[a-z0-9\\._%/]+','webaddress',b)"
   ]
  },
  {
   "cell_type": "code",
   "execution_count": 184,
   "metadata": {},
   "outputs": [
    {
     "name": "stdout",
     "output_type": "stream",
     "text": [
      "You can reach me by phonenumbr\n",
      "You can reach me by phonenumbr\n",
      "You can reach me by phonenumbr\n",
      "You can reach me by phonenumbr\n"
     ]
    }
   ],
   "source": [
    "c1 = 'You can reach me by 8018192346'\n",
    "c2 = 'You can reach me by 801-819-2346'\n",
    "c3 = 'You can reach me by (801)8192346'\n",
    "c4 = 'You can reach me by 801 819 2346'\n",
    "print(re.sub(r\"\\(?([0-9]{3}[- \\)]?){2}[0-9]{4}\",'phonenumbr',c1))\n",
    "print(re.sub(r\"\\(?([0-9]{3}[- \\)]?){2}[0-9]{4}\",'phonenumbr',c2))\n",
    "print(re.sub(r\"\\(?([0-9]{3}[- \\)]?){2}[0-9]{4}\",'phonenumbr',c3))\n",
    "print(re.sub(r\"\\(?([0-9]{3}[- \\)]?){2}[0-9]{4}\",'phonenumbr',c4))"
   ]
  },
  {
   "cell_type": "code",
   "execution_count": 185,
   "metadata": {},
   "outputs": [
    {
     "data": {
      "text/plain": [
       "'$numbr'"
      ]
     },
     "execution_count": 185,
     "metadata": {},
     "output_type": "execute_result"
    }
   ],
   "source": [
    "number = '$300.0'\n",
    "re.sub(r'\\d+(\\.\\d)?','numbr',number)"
   ]
  },
  {
   "cell_type": "code",
   "execution_count": 186,
   "metadata": {},
   "outputs": [
    {
     "data": {
      "text/plain": [
       "'moneysym300.0'"
      ]
     },
     "execution_count": 186,
     "metadata": {},
     "output_type": "execute_result"
    }
   ],
   "source": [
    "re.sub(r'\\$|£','moneysym',number)"
   ]
  },
  {
   "cell_type": "markdown",
   "metadata": {},
   "source": [
    "### References"
   ]
  }
 ],
 "metadata": {
  "kernelspec": {
   "display_name": "Python 3",
   "language": "python",
   "name": "python3"
  },
  "language_info": {
   "codemirror_mode": {
    "name": "ipython",
    "version": 3
   },
   "file_extension": ".py",
   "mimetype": "text/x-python",
   "name": "python",
   "nbconvert_exporter": "python",
   "pygments_lexer": "ipython3",
   "version": "3.7.3"
  }
 },
 "nbformat": 4,
 "nbformat_minor": 2
}
