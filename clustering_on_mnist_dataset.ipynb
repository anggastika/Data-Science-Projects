{
 "cells": [
  {
   "cell_type": "markdown",
   "metadata": {
    "colab_type": "text",
    "id": "AYyct6p7BrGK"
   },
   "source": [
    "# Clustering on mnist dataset\n",
    "\n",
    "In this notebook, I used MiniBatchKM to cluster the mnist dataset and then used clusters centers to predict the class of each image."
   ]
  },
  {
   "cell_type": "markdown",
   "metadata": {
    "colab_type": "text",
    "id": "lIIVv8FHBrGO"
   },
   "source": [
    "## Importing dataset"
   ]
  },
  {
   "cell_type": "code",
   "execution_count": 1,
   "metadata": {
    "colab": {
     "base_uri": "https://localhost:8080/",
     "height": 68
    },
    "colab_type": "code",
    "id": "guLdpHRsBrGR",
    "outputId": "44a5ffbf-f9e3-4d01-d45a-8bfb9cdfe583"
   },
   "outputs": [
    {
     "name": "stderr",
     "output_type": "stream",
     "text": [
      "Using TensorFlow backend.\n"
     ]
    },
    {
     "name": "stdout",
     "output_type": "stream",
     "text": [
      "Downloading data from https://s3.amazonaws.com/img-datasets/mnist.npz\n",
      "11493376/11490434 [==============================] - 1s 0us/step\n"
     ]
    }
   ],
   "source": [
    "from keras.datasets import mnist\n",
    "(x_train, y_train), (x_test, y_test) = mnist.load_data()"
   ]
  },
  {
   "cell_type": "markdown",
   "metadata": {
    "colab_type": "text",
    "id": "Iapfqn3cBrGf"
   },
   "source": [
    "## Data Visualization"
   ]
  },
  {
   "cell_type": "code",
   "execution_count": 2,
   "metadata": {
    "colab": {
     "base_uri": "https://localhost:8080/",
     "height": 286
    },
    "colab_type": "code",
    "id": "eXDaD6GmBrGh",
    "outputId": "c7f5a77d-73d2-4db4-92da-0adecfd4ef0b"
   },
   "outputs": [
    {
     "data": {
      "text/plain": [
       "<matplotlib.image.AxesImage at 0x7f738c0962b0>"
      ]
     },
     "execution_count": 2,
     "metadata": {
      "tags": []
     },
     "output_type": "execute_result"
    },
    {
     "data": {
      "image/png": "[encoded data removed]",
      "text/plain": [
       "<Figure size 432x288 with 1 Axes>"
      ]
     },
     "metadata": {
      "tags": []
     },
     "output_type": "display_data"
    }
   ],
   "source": [
    "import matplotlib.pyplot as plt\n",
    "%matplotlib inline\n",
    "plt.imshow(x_train[0],cmap='Greys')"
   ]
  },
  {
   "cell_type": "markdown",
   "metadata": {
    "colab_type": "text",
    "id": "dg0s03UPBrGo"
   },
   "source": [
    "## Data Preprocessing"
   ]
  },
  {
   "cell_type": "markdown",
   "metadata": {
    "colab_type": "text",
    "id": "ibGAhWe2BrGq"
   },
   "source": [
    "Rescale the each image"
   ]
  },
  {
   "cell_type": "code",
   "execution_count": null,
   "metadata": {
    "colab": {},
    "colab_type": "code",
    "id": "N5B_l-0YBrGr"
   },
   "outputs": [],
   "source": [
    "x_train_s = x_train/128-1\n",
    "x_test_s = x_test/128-1"
   ]
  },
  {
   "cell_type": "code",
   "execution_count": 4,
   "metadata": {
    "colab": {
     "base_uri": "https://localhost:8080/",
     "height": 51
    },
    "colab_type": "code",
    "id": "oQSh14W-EuO7",
    "outputId": "dde189c1-0275-4e50-822c-5c16b9b06420"
   },
   "outputs": [
    {
     "name": "stdout",
     "output_type": "stream",
     "text": [
      "(60000, 28, 28)\n",
      "(10000, 28, 28)\n"
     ]
    }
   ],
   "source": [
    "print(x_train_s.shape)\n",
    "print(x_test_s.shape)"
   ]
  },
  {
   "cell_type": "markdown",
   "metadata": {
    "colab_type": "text",
    "id": "XXQe9SzQBrGw"
   },
   "source": [
    "## KMeans Clustering"
   ]
  },
  {
   "cell_type": "code",
   "execution_count": 5,
   "metadata": {
    "colab": {
     "base_uri": "https://localhost:8080/",
     "height": 85
    },
    "colab_type": "code",
    "id": "4hyvaTEZBrGy",
    "outputId": "7c0a5657-bfa3-4698-ead4-494d06ec2e5c"
   },
   "outputs": [
    {
     "data": {
      "text/plain": [
       "MiniBatchKMeans(batch_size=100, compute_labels=True, init='k-means++',\n",
       "                init_size=None, max_iter=100, max_no_improvement=10,\n",
       "                n_clusters=20, n_init=3, random_state=None,\n",
       "                reassignment_ratio=0.01, tol=0.0, verbose=0)"
      ]
     },
     "execution_count": 5,
     "metadata": {
      "tags": []
     },
     "output_type": "execute_result"
    }
   ],
   "source": [
    "from sklearn.cluster import MiniBatchKMeans\n",
    "import numpy as np\n",
    "\n",
    "\n",
    "km = MiniBatchKMeans(n_clusters=20)\n",
    "shape = x_train_s.shape\n",
    "# Flattening the image to feed into the model\n",
    "# The matrix of x_train has the dimension sample x features\n",
    "km.fit(x_train_s.reshape((shape[0],shape[1]*shape[2])))"
   ]
  },
  {
   "cell_type": "markdown",
   "metadata": {
    "colab_type": "text",
    "id": "_4XETw2OBrG3"
   },
   "source": [
    "## Infer Labels"
   ]
  },
  {
   "cell_type": "code",
   "execution_count": null,
   "metadata": {
    "colab": {},
    "colab_type": "code",
    "id": "Y4NUsVTTQqtZ"
   },
   "outputs": [],
   "source": [
    "def transform_labels(model,matrix,labels):\n",
    "  # map the predicted cluster centroids to the real labels\n",
    "  prediction = model.predict(matrix)\n",
    "  # Array with index == centroids and value == real labels\n",
    "  new_labels = []\n",
    "  for i in range(0,model.n_clusters):\n",
    "    # find cluster centroids i\n",
    "    indexes = np.where(prediction==i)\n",
    "    # get the labels corresponding to the selected samples\n",
    "    # bincoount to find the most frequent label\n",
    "    count = np.bincount(labels[indexes])\n",
    "    # find the most frequent label to use and add it to the cluster centroid position\n",
    "    new_labels.append(np.argmax(count))\n",
    "  return np.array(new_labels)"
   ]
  },
  {
   "cell_type": "code",
   "execution_count": 8,
   "metadata": {
    "colab": {
     "base_uri": "https://localhost:8080/",
     "height": 281
    },
    "colab_type": "code",
    "id": "h1Nho0ehJ4Tb",
    "outputId": "30fe782c-9d9f-4bd1-bbd7-70d201d8923b"
   },
   "outputs": [
    {
     "data": {
      "image/png": "[encoded data removed]",
      "text/plain": [
       "<Figure size 432x288 with 20 Axes>"
      ]
     },
     "metadata": {
      "tags": []
     },
     "output_type": "display_data"
    }
   ],
   "source": [
    "# Showing some examples of learned cluster centroid values\n",
    "\n",
    "centers = km.cluster_centers_.reshape((20,shape[1],shape[2]))\n",
    "transform = transform_labels(km,x_train_s.reshape((shape[0],shape[1]*shape[2])),y_train)\n",
    "fig = plt.figure()\n",
    "for i,center in enumerate(centers):\n",
    "  \n",
    "  ax = fig.add_subplot(4,5,i+1)\n",
    "  ax.title.set_text(str(transform[i]))\n",
    "  plt.imshow(center,cmap='Greys')"
   ]
  },
  {
   "cell_type": "markdown",
   "metadata": {
    "colab_type": "text",
    "id": "DWn_VjWZBrG6"
   },
   "source": [
    "## Metrics"
   ]
  },
  {
   "cell_type": "code",
   "execution_count": null,
   "metadata": {
    "colab": {},
    "colab_type": "code",
    "id": "ge22PEnyPGhi"
   },
   "outputs": [],
   "source": [
    "# Wrap the model together with the label conversion process\n",
    "class km_wrapper():\n",
    "  def __init__(self,n_clusters=10):\n",
    "    self.model = MiniBatchKMeans(n_clusters=n_clusters)\n",
    "  def fit(self,X,y):\n",
    "    self.model.fit(X)\n",
    "    self.labels_transform = transform_labels(self.model,X,y)\n",
    "  def predict(self,X):\n",
    "    indexes = self.model.predict(X)\n",
    "    return self.labels_transform[indexes]"
   ]
  },
  {
   "cell_type": "code",
   "execution_count": 10,
   "metadata": {
    "colab": {
     "base_uri": "https://localhost:8080/",
     "height": 2482
    },
    "colab_type": "code",
    "id": "gX6iwo5jBrG8",
    "outputId": "bd607279-1292-4179-ca7b-85b9f7dadc29"
   },
   "outputs": [
    {
     "name": "stdout",
     "output_type": "stream",
     "text": [
      "number of clusters: 50\n",
      "0.7689833333333334\n",
      "              precision    recall  f1-score   support\n",
      "\n",
      "           0       0.92      0.94      0.93      5923\n",
      "           1       0.93      0.97      0.95      6742\n",
      "           2       0.95      0.81      0.88      5958\n",
      "           3       0.84      0.63      0.72      6131\n",
      "           4       0.63      0.65      0.64      5842\n",
      "           5       0.59      0.75      0.66      5421\n",
      "           6       0.83      0.89      0.86      5918\n",
      "           7       0.74      0.83      0.78      6265\n",
      "           8       0.72      0.76      0.74      5851\n",
      "           9       0.53      0.42      0.47      5949\n",
      "\n",
      "    accuracy                           0.77     60000\n",
      "   macro avg       0.77      0.77      0.76     60000\n",
      "weighted avg       0.77      0.77      0.77     60000\n",
      "\n",
      "number of clusters: 100\n",
      "0.8476666666666667\n",
      "              precision    recall  f1-score   support\n",
      "\n",
      "           0       0.95      0.96      0.95      5923\n",
      "           1       0.93      0.98      0.95      6742\n",
      "           2       0.84      0.92      0.88      5958\n",
      "           3       0.78      0.84      0.81      6131\n",
      "           4       0.74      0.77      0.75      5842\n",
      "           5       0.80      0.76      0.78      5421\n",
      "           6       0.94      0.94      0.94      5918\n",
      "           7       0.89      0.87      0.88      6265\n",
      "           8       0.87      0.73      0.80      5851\n",
      "           9       0.71      0.68      0.70      5949\n",
      "\n",
      "    accuracy                           0.85     60000\n",
      "   macro avg       0.85      0.84      0.84     60000\n",
      "weighted avg       0.85      0.85      0.85     60000\n",
      "\n",
      "number of clusters: 200\n",
      "0.8839833333333333\n",
      "              precision    recall  f1-score   support\n",
      "\n",
      "           0       0.96      0.96      0.96      5923\n",
      "           1       0.95      0.98      0.96      6742\n",
      "           2       0.95      0.91      0.93      5958\n",
      "           3       0.87      0.83      0.85      6131\n",
      "           4       0.81      0.85      0.83      5842\n",
      "           5       0.85      0.82      0.84      5421\n",
      "           6       0.93      0.97      0.95      5918\n",
      "           7       0.87      0.90      0.88      6265\n",
      "           8       0.85      0.86      0.86      5851\n",
      "           9       0.79      0.74      0.77      5949\n",
      "\n",
      "    accuracy                           0.88     60000\n",
      "   macro avg       0.88      0.88      0.88     60000\n",
      "weighted avg       0.88      0.88      0.88     60000\n",
      "\n",
      "number of clusters: 250\n",
      "0.8941333333333333\n",
      "              precision    recall  f1-score   support\n",
      "\n",
      "           0       0.97      0.95      0.96      5923\n",
      "           1       0.96      0.98      0.97      6742\n",
      "           2       0.90      0.92      0.91      5958\n",
      "           3       0.86      0.85      0.85      6131\n",
      "           4       0.88      0.81      0.84      5842\n",
      "           5       0.88      0.87      0.88      5421\n",
      "           6       0.95      0.97      0.96      5918\n",
      "           7       0.91      0.89      0.90      6265\n",
      "           8       0.87      0.85      0.86      5851\n",
      "           9       0.77      0.84      0.80      5949\n",
      "\n",
      "    accuracy                           0.89     60000\n",
      "   macro avg       0.89      0.89      0.89     60000\n",
      "weighted avg       0.89      0.89      0.89     60000\n",
      "\n",
      "number of clusters: 300\n",
      "0.8929166666666667\n",
      "              precision    recall  f1-score   support\n",
      "\n",
      "           0       0.95      0.96      0.95      5923\n",
      "           1       0.95      0.98      0.97      6742\n",
      "           2       0.94      0.92      0.93      5958\n",
      "           3       0.83      0.86      0.84      6131\n",
      "           4       0.92      0.78      0.84      5842\n",
      "           5       0.87      0.83      0.85      5421\n",
      "           6       0.94      0.96      0.95      5918\n",
      "           7       0.92      0.91      0.91      6265\n",
      "           8       0.87      0.84      0.86      5851\n",
      "           9       0.76      0.88      0.81      5949\n",
      "\n",
      "    accuracy                           0.89     60000\n",
      "   macro avg       0.89      0.89      0.89     60000\n",
      "weighted avg       0.90      0.89      0.89     60000\n",
      "\n",
      "number of clusters: 350\n"
     ]
    },
    {
     "name": "stderr",
     "output_type": "stream",
     "text": [
      "/usr/local/lib/python3.6/dist-packages/sklearn/cluster/k_means_.py:1558: RuntimeWarning: init_size=300 should be larger than k=350. Setting it to 3*k\n",
      "  init_size=init_size)\n",
      "/usr/local/lib/python3.6/dist-packages/sklearn/cluster/k_means_.py:1558: RuntimeWarning: init_size=300 should be larger than k=350. Setting it to 3*k\n",
      "  init_size=init_size)\n",
      "/usr/local/lib/python3.6/dist-packages/sklearn/cluster/k_means_.py:1558: RuntimeWarning: init_size=300 should be larger than k=350. Setting it to 3*k\n",
      "  init_size=init_size)\n"
     ]
    },
    {
     "name": "stdout",
     "output_type": "stream",
     "text": [
      "0.9054166666666666\n",
      "              precision    recall  f1-score   support\n",
      "\n",
      "           0       0.96      0.97      0.97      5923\n",
      "           1       0.95      0.98      0.97      6742\n",
      "           2       0.90      0.95      0.92      5958\n",
      "           3       0.91      0.86      0.89      6131\n",
      "           4       0.83      0.88      0.86      5842\n",
      "           5       0.85      0.91      0.88      5421\n",
      "           6       0.94      0.96      0.95      5918\n",
      "           7       0.93      0.90      0.92      6265\n",
      "           8       0.93      0.83      0.88      5851\n",
      "           9       0.82      0.79      0.81      5949\n",
      "\n",
      "    accuracy                           0.91     60000\n",
      "   macro avg       0.90      0.90      0.90     60000\n",
      "weighted avg       0.91      0.91      0.91     60000\n",
      "\n",
      "number of clusters: 400\n"
     ]
    },
    {
     "name": "stderr",
     "output_type": "stream",
     "text": [
      "/usr/local/lib/python3.6/dist-packages/sklearn/cluster/k_means_.py:1558: RuntimeWarning: init_size=300 should be larger than k=400. Setting it to 3*k\n",
      "  init_size=init_size)\n",
      "/usr/local/lib/python3.6/dist-packages/sklearn/cluster/k_means_.py:1558: RuntimeWarning: init_size=300 should be larger than k=400. Setting it to 3*k\n",
      "  init_size=init_size)\n",
      "/usr/local/lib/python3.6/dist-packages/sklearn/cluster/k_means_.py:1558: RuntimeWarning: init_size=300 should be larger than k=400. Setting it to 3*k\n",
      "  init_size=init_size)\n"
     ]
    },
    {
     "name": "stdout",
     "output_type": "stream",
     "text": [
      "0.9084166666666667\n",
      "              precision    recall  f1-score   support\n",
      "\n",
      "           0       0.97      0.96      0.97      5923\n",
      "           1       0.93      0.98      0.96      6742\n",
      "           2       0.94      0.94      0.94      5958\n",
      "           3       0.88      0.89      0.88      6131\n",
      "           4       0.90      0.84      0.87      5842\n",
      "           5       0.86      0.90      0.88      5421\n",
      "           6       0.94      0.98      0.96      5918\n",
      "           7       0.91      0.90      0.91      6265\n",
      "           8       0.93      0.85      0.89      5851\n",
      "           9       0.81      0.84      0.83      5949\n",
      "\n",
      "    accuracy                           0.91     60000\n",
      "   macro avg       0.91      0.91      0.91     60000\n",
      "weighted avg       0.91      0.91      0.91     60000\n",
      "\n"
     ]
    }
   ],
   "source": [
    "# Train with varying number of cluster centroids and evaluate on model performance\n",
    "from sklearn.metrics import classification_report,accuracy_score\n",
    "shape = x_train_s.shape\n",
    "X = x_train_s.reshape((shape[0],shape[1]*shape[2]))\n",
    "y = y_train\n",
    "n_clusters_list = [50,100,200,250,300,350,400]\n",
    "for n_clusters in n_clusters_list:\n",
    "  print('number of clusters: {}'.format(n_clusters))\n",
    "  model = km_wrapper(n_clusters=n_clusters)\n",
    "  model.fit(X,y)\n",
    "  print(accuracy_score(y,model.predict(X)))\n",
    "  print(classification_report(y,model.predict(X)))"
   ]
  },
  {
   "cell_type": "code",
   "execution_count": null,
   "metadata": {
    "colab": {
     "base_uri": "https://localhost:8080/",
     "height": 408
    },
    "colab_type": "code",
    "id": "8vVFKMEOPPHD",
    "outputId": "35943812-eb09-4588-ed68-ba4550af0f8b"
   },
   "outputs": [
    {
     "name": "stderr",
     "output_type": "stream",
     "text": [
      "/usr/local/lib/python3.6/dist-packages/sklearn/cluster/k_means_.py:1558: RuntimeWarning: init_size=300 should be larger than k=400. Setting it to 3*k\n",
      "  init_size=init_size)\n",
      "/usr/local/lib/python3.6/dist-packages/sklearn/cluster/k_means_.py:1558: RuntimeWarning: init_size=300 should be larger than k=400. Setting it to 3*k\n",
      "  init_size=init_size)\n",
      "/usr/local/lib/python3.6/dist-packages/sklearn/cluster/k_means_.py:1558: RuntimeWarning: init_size=300 should be larger than k=400. Setting it to 3*k\n",
      "  init_size=init_size)\n"
     ]
    },
    {
     "name": "stdout",
     "output_type": "stream",
     "text": [
      "              precision    recall  f1-score   support\n",
      "\n",
      "           0       0.96      0.98      0.97       980\n",
      "           1       0.95      0.99      0.97      1135\n",
      "           2       0.92      0.93      0.93      1032\n",
      "           3       0.89      0.90      0.89      1010\n",
      "           4       0.90      0.85      0.87       982\n",
      "           5       0.90      0.87      0.88       892\n",
      "           6       0.95      0.97      0.96       958\n",
      "           7       0.94      0.88      0.91      1028\n",
      "           8       0.90      0.88      0.89       974\n",
      "           9       0.82      0.87      0.84      1009\n",
      "\n",
      "    accuracy                           0.91     10000\n",
      "   macro avg       0.91      0.91      0.91     10000\n",
      "weighted avg       0.91      0.91      0.91     10000\n",
      "\n"
     ]
    }
   ],
   "source": [
    "# train and eveluate on the test set\n",
    "shape = x_train_s.shape\n",
    "X = x_train_s.reshape((shape[0],shape[1]*shape[2]))\n",
    "y = y_train\n",
    "\n",
    "model = km_wrapper(n_clusters=400)\n",
    "model.fit(X,y)\n",
    "\n",
    "shape = x_test_s.shape\n",
    "X = x_test_s.reshape((shape[0],shape[1]*shape[2]))\n",
    "y = y_test\n",
    "print(classification_report(y_test,model.predict(X)))"
   ]
  },
  {
   "cell_type": "markdown",
   "metadata": {
    "colab_type": "text",
    "id": "2brTK5H3BrHD"
   },
   "source": [
    "## References"
   ]
  },
  {
   "cell_type": "markdown",
   "metadata": {
    "colab_type": "text",
    "id": "m1aJVBS2Q5mv"
   },
   "source": [
    "1) https://www.eduonix.com/learn-machine-learning-by-building-projects\n",
    "\n",
    "2) https://scikit-learn.org/stable/"
   ]
  }
 ],
 "metadata": {
  "colab": {
   "collapsed_sections": [],
   "name": "clustering on mnist dataset.ipynb",
   "provenance": [],
   "version": "0.3.2"
  },
  "kernelspec": {
   "display_name": "Python 3",
   "language": "python",
   "name": "python3"
  },
  "language_info": {
   "codemirror_mode": {
    "name": "ipython",
    "version": 3
   },
   "file_extension": ".py",
   "mimetype": "text/x-python",
   "name": "python",
   "nbconvert_exporter": "python",
   "pygments_lexer": "ipython3",
   "version": "3.7.3"
  }
 },
 "nbformat": 4,
 "nbformat_minor": 2
}
