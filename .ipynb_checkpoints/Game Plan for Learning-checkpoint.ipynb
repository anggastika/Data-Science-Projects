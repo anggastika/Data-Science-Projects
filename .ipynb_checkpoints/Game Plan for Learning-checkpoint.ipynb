{
 "cells": [
  {
   "cell_type": "markdown",
   "metadata": {},
   "source": [
    "# General weekly goal"
   ]
  },
  {
   "cell_type": "markdown",
   "metadata": {},
   "source": [
    "Mon: \n",
    "- Explore new projects/topics.\n",
    "- Identify new skills to learn. \n",
    "- Work on projects"
   ]
  },
  {
   "cell_type": "markdown",
   "metadata": {},
   "source": [
    "Tue:\n",
    "- Understand new concepts\n",
    "- Work on projects"
   ]
  },
  {
   "cell_type": "markdown",
   "metadata": {},
   "source": [
    "Wed: \n",
    "- Go through another person's work (find in kaggle or github)\n",
    "- Work on projects"
   ]
  },
  {
   "cell_type": "markdown",
   "metadata": {},
   "source": [
    "Thurs: \n",
    "- Gain new programming skills\n",
    "- Work on projects"
   ]
  },
  {
   "cell_type": "markdown",
   "metadata": {},
   "source": [
    "Fri:\n",
    "- Work on projects"
   ]
  },
  {
   "cell_type": "markdown",
   "metadata": {},
   "source": [
    "Sat:\n",
    "- Read \"Deep Learning with Python\" book\n",
    "- Work on projects"
   ]
  },
  {
   "cell_type": "markdown",
   "metadata": {},
   "source": [
    "Sun:\n",
    "- Study Statistics\n",
    "- Work on projects"
   ]
  },
  {
   "cell_type": "markdown",
   "metadata": {},
   "source": [
    "# Project ideas"
   ]
  },
  {
   "cell_type": "markdown",
   "metadata": {},
   "source": [
    "Web game: \n",
    "\n",
    "Tanks\n",
    "\n",
    "Programming Skill:\n",
    "\n",
    "Object Oriented Java Programming: Data Structures and Beyond Specialization from coursera\n",
    "\n",
    "Algorithm Design and Analysis from edX (free)"
   ]
  }
 ],
 "metadata": {
  "kernelspec": {
   "display_name": "Python 3",
   "language": "python",
   "name": "python3"
  },
  "language_info": {
   "codemirror_mode": {
    "name": "ipython",
    "version": 3
   },
   "file_extension": ".py",
   "mimetype": "text/x-python",
   "name": "python",
   "nbconvert_exporter": "python",
   "pygments_lexer": "ipython3",
   "version": "3.7.3"
  }
 },
 "nbformat": 4,
 "nbformat_minor": 2
}
